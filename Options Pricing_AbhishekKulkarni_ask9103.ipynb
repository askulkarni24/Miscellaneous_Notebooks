{
 "cells": [
  {
   "cell_type": "markdown",
   "id": "e961935d",
   "metadata": {},
   "source": [
    "# Options Pricing\n",
    "\n",
    "#### Abhishek Kulkarni (ask9103@nyu.edu, abhiskulk15@gmail.com)"
   ]
  },
  {
   "cell_type": "markdown",
   "id": "70a54854",
   "metadata": {},
   "source": [
    "### Question 1\n",
    "\n",
    "Write function(s) equity option pricing valuation: \\\n",
    "    a. Inputs: Underlying Stock Px, Dividend Yield, Strike Price, Interest Rate, Volatility, Time to expiry, Call or Put \\\n",
    "    b. Output: Option Premium, Delta, Vega, Theta"
   ]
  },
  {
   "cell_type": "markdown",
   "id": "6c435f7f",
   "metadata": {},
   "source": [
    "#### Black Scholes Options Pricing Model:\n",
    "\n",
    "Call Option -\n",
    "$$C(S,t) = Se^{-qT}N(d_{1}) - Ke^{-rT}N(d_{2})$$\n",
    "\n",
    "Put Option - \n",
    "$$P(S,t) = Ke^{-rT}N(-d_{2})-Se^{-qT}N(-d_{1})$$\n",
    "\n",
    "where, \\\n",
    "$d_{1} = \\frac{ln(S/K)+(r-q+\\sigma^{2}/2)(T)}{\\sigma\\sqrt{T}}$ \\\n",
    "$d_{2} = d_{1} - \\sigma\\sqrt{T}$ \\\n",
    "$N(x) = \\frac{1}{\\sqrt{2\\pi}}\\int_{-\\infty}^x exp(\\frac{z^{2}}{2})dz$ \n",
    "\n",
    "\n",
    "**Inputs:** \\\n",
    "Underlying Stock Price (S) \\\n",
    "Dividend Yield (q) \\\n",
    "Stike Price (K) \\\n",
    "Interest Rate (r) \\\n",
    "Volatility ($\\sigma$) \\\n",
    "Time to Expiry (T)\n",
    "\n",
    "**Outputs:** \\\n",
    "Call Price (C(S,t)) \\\n",
    "Put Price (P(S,t))"
   ]
  },
  {
   "cell_type": "code",
   "execution_count": 1,
   "id": "36184b0f",
   "metadata": {},
   "outputs": [],
   "source": [
    "import numpy as np\n",
    "import pandas as pd\n",
    "from scipy.stats import norm"
   ]
  },
  {
   "cell_type": "markdown",
   "id": "8f82a31e",
   "metadata": {},
   "source": [
    "Function for getting Call Option Premium \\\n",
    "$$C(S,t) = Se^{-qT}N(d_{1}) - Ke^{-rT}N(d_{2})$$ \n",
    "\n",
    "**Call Option Greeks:** \\\n",
    "$$Delta (\\Delta) = \\frac{\\partial C(S,t)}{\\partial S} = e^{-qT}N(d_{1})$$ \\\n",
    "$$Vega (\\nu) = \\frac{\\partial C(S,t)}{\\partial \\sigma} = e^{-qT}S\\sqrt{T}N(d_{1})$$ \\\n",
    "$$Theta (\\theta) = -\\frac{\\partial C(S,t)}{\\partial t} = \\frac{1}{T}(-(\\frac{S\\sigma e^{-qT}}{2\\sqrt{T}}N^{'}(d_{1})) - rKe^{-rT}N(d_{2}) + qSe^{-qT}N(d_{1}))$$"
   ]
  },
  {
   "cell_type": "code",
   "execution_count": 2,
   "id": "4891127f",
   "metadata": {},
   "outputs": [],
   "source": [
    "class CallOption():\n",
    "    \n",
    "    def __init__(self, S, q, K, r, sigma, T):\n",
    "        self.S = S\n",
    "        self.q = q\n",
    "        self.K = K\n",
    "        self.r = r\n",
    "        self.sigma = sigma\n",
    "        self.T = T\n",
    "        \n",
    "    def d1(self):\n",
    "        return (np.log(self.S/self.K) + \n",
    "                (self.r-self.q+(self.sigma**2)/2)*self.T)/(self.sigma*np.sqrt(self.T))\n",
    "    \n",
    "    def d2(self):\n",
    "        return self.d1() - (self.sigma*np.sqrt(self.T))\n",
    "    \n",
    "    def price(self):\n",
    "        return self.S*np.exp(-1*self.q*self.T)*norm.cdf(self.d1()) - \\\n",
    "                self.K*np.exp(-1*self.r*self.T)*norm.cdf(self.d2())\n",
    "    \n",
    "    def delta(self):\n",
    "        return np.exp(-1*self.q*self.T)*norm.cdf(self.d1())\n",
    "    \n",
    "    def vega(self):\n",
    "        return np.exp(-1*self.q*self.T)*self.S*np.sqrt(self.T)*norm.cdf(self.d1())\n",
    "    \n",
    "    def theta(self):\n",
    "        return ((-1*self.S*self.sigma*np.exp(-1*self.q*self.T)*norm.pdf(self.d1())/(2*np.sqrt(self.T))) - \\\n",
    "                (self.r*self.K*np.exp(-1*self.r*self.T)*norm.cdf(self.d2())) + \\\n",
    "                (self.q*self.S*np.exp(-1*self.q*self.T)*norm.cdf(self.d1())))/252"
   ]
  },
  {
   "cell_type": "markdown",
   "id": "d43b0efd",
   "metadata": {},
   "source": [
    "Function for getting Call Option Premium \\\n",
    "$$P(S,t) = Ke^{-rT}N(-d_{2})-Se^{-qT}N(-d_{1})$$ \n",
    "\n",
    "**Put Option Greeks:** \\\n",
    "$$Delta (\\Delta) = \\frac{\\partial P(S,t)}{\\partial S} = -e^{-qT}N(d_{1})$$ \\\n",
    "$$Vega (\\nu) = \\frac{\\partial P(S,t)}{\\partial \\sigma} = e^{-qT}S\\sqrt{T}N(d_{1})$$ \\\n",
    "$$Theta (\\theta) = -\\frac{\\partial P(S,t)}{\\partial t} = \\frac{1}{T}(-(\\frac{S\\sigma e^{-qT}}{2\\sqrt{T}}N^{'}(d_{1})) + rKe^{-rT}N(-d_{2}) - qSe^{-qT}N(-d_{1}))$$"
   ]
  },
  {
   "cell_type": "code",
   "execution_count": 3,
   "id": "5759c3ac",
   "metadata": {},
   "outputs": [],
   "source": [
    "class PutOption():\n",
    "    \n",
    "    def __init__(self, S, q, K, r, sigma, T):\n",
    "        self.S = S\n",
    "        self.q = q\n",
    "        self.K = K\n",
    "        self.r = r\n",
    "        self.sigma = sigma\n",
    "        self.T = T\n",
    "        \n",
    "    def d1(self):\n",
    "        return (np.log(self.S/self.K) + \n",
    "                (self.r-self.q+(self.sigma**2)/2)*self.T)/(self.sigma*np.sqrt(self.T))\n",
    "    \n",
    "    def d2(self):\n",
    "        return self.d1() - (self.sigma*np.sqrt(self.T))\n",
    "    \n",
    "    def price(self):\n",
    "        return self.K*np.exp(-1*self.r*self.T)*norm.cdf(-1*self.d2()) - \\\n",
    "                self.S*np.exp(-1*self.q*self.T)*norm.cdf(-1*self.d1())\n",
    "    \n",
    "    def delta(self):\n",
    "        return -1*np.exp(-1*self.q*self.T)*norm.cdf(self.d1())\n",
    "    \n",
    "    def vega(self):\n",
    "        return np.exp(-1*self.q*self.T)*self.S*np.sqrt(self.T)*norm.cdf(self.d1())\n",
    "    \n",
    "    def theta(self):\n",
    "        return ((-1*self.S*self.sigma*np.exp(-1*self.q*self.T)*norm.pdf(self.d1())/(2*np.sqrt(self.T))) + \\\n",
    "                (self.r*self.K*np.exp(-1*self.r*self.T)*norm.cdf(-1*self.d2())) - \\\n",
    "                (self.q*self.S*np.exp(-1*self.q*self.T)*norm.cdf(-1*self.d1())))/252"
   ]
  },
  {
   "cell_type": "markdown",
   "id": "059a8b08",
   "metadata": {},
   "source": [
    "*******"
   ]
  },
  {
   "cell_type": "markdown",
   "id": "89abe339",
   "metadata": {},
   "source": [
    "### Question 2\n",
    "\n",
    "**Scenario analysis:** \\\n",
    "i. Time of valuation: 60 days before expiry \\\n",
    "ii. Underlying: SPY US Equity \\\n",
    "iii. Strike: 380 \\\n",
    "iv. Expiry: 1/20/2023 \\\n",
    "v. Scenarios: underlying price -10%,-5%,0,5%,10% \\\n",
    "vi. Get the option premium for different scenarios (please think about how to get the correct volatility inputs)"
   ]
  },
  {
   "cell_type": "markdown",
   "id": "efdd0606",
   "metadata": {},
   "source": [
    "**Available Data (as of 07/11/2022)** \\\n",
    "Call Option Price = USD 30.65 \\\n",
    "Put Option Price = USD 24.05 \\\n",
    "SPY US Equity Price = USD 384.23 \\\n",
    "Risk-free Rate (11/30/2022 T-Bill Yield) = 2.387% \\\n",
    "SPY US Dividend Yield = 1.38%\n",
    "\n",
    "Source: \\\n",
    "https://finance.yahoo.com/quote/SPY230120C00380000?p=SPY230120C00380000 \\\n",
    "https://finance.yahoo.com/quote/SPY230120P00380000?p=SPY230120P00380000 \\\n",
    "https://www.wsj.com/market-data/bonds/treasuries "
   ]
  },
  {
   "cell_type": "code",
   "execution_count": 4,
   "id": "0ffc40e6",
   "metadata": {},
   "outputs": [],
   "source": [
    "S = 384.23\n",
    "K = 380\n",
    "r = 0.02387\n",
    "q = 0.0138"
   ]
  },
  {
   "cell_type": "markdown",
   "id": "f6e3ec0c",
   "metadata": {},
   "source": [
    "No of days left for maturity:"
   ]
  },
  {
   "cell_type": "code",
   "execution_count": 5,
   "id": "13b59494",
   "metadata": {},
   "outputs": [
    {
     "data": {
      "text/plain": [
       "0.5287671232876713"
      ]
     },
     "execution_count": 5,
     "metadata": {},
     "output_type": "execute_result"
    }
   ],
   "source": [
    "T0 = (pd.to_datetime(\"01-20-2023\") - pd.to_datetime(\"07/11/2022\")).days/365\n",
    "T0"
   ]
  },
  {
   "cell_type": "markdown",
   "id": "00588bea",
   "metadata": {},
   "source": [
    "Finding value of SPY options & their greeks using classes defined above"
   ]
  },
  {
   "cell_type": "code",
   "execution_count": 6,
   "id": "0fb9d397",
   "metadata": {},
   "outputs": [
    {
     "name": "stdout",
     "output_type": "stream",
     "text": [
      "Call Price:  30.28645097591061\n",
      "Call Delta:  0.567691901367937\n",
      "Call Vega:  158.61205492733959\n",
      "Call Theta:  -0.10673698971911104\n"
     ]
    }
   ],
   "source": [
    "spy_call = CallOption(S,q,K,r,sigma=0.247,T=T0)\n",
    "\n",
    "spy_call_price = spy_call.price()\n",
    "spy_call_delta = spy_call.delta()\n",
    "spy_call_vega = spy_call.vega()\n",
    "spy_call_theta = spy_call.theta()\n",
    "\n",
    "print(\"Call Price: \", spy_call_price)\n",
    "print(\"Call Delta: \", spy_call_delta)\n",
    "print(\"Call Vega: \", spy_call_vega)\n",
    "print(\"Call Theta: \", spy_call_theta)"
   ]
  },
  {
   "cell_type": "code",
   "execution_count": 7,
   "id": "89360df7",
   "metadata": {},
   "outputs": [
    {
     "name": "stdout",
     "output_type": "stream",
     "text": [
      "Put Price:  24.083873739399877\n",
      "Put Delta:  -0.567691901367937\n",
      "Put Vega:  158.61205492733959\n",
      "Put Theta:  -0.09208218864786524\n"
     ]
    }
   ],
   "source": [
    "spy_put = PutOption(S,q,K,r,sigma=0.247,T=T0)\n",
    "\n",
    "spy_put_price = spy_put.price()\n",
    "spy_put_delta = spy_put.delta()\n",
    "spy_put_vega = spy_put.vega()\n",
    "spy_put_theta = spy_put.theta()\n",
    "\n",
    "print(\"Put Price: \", spy_put_price)\n",
    "print(\"Put Delta: \", spy_put_delta)\n",
    "print(\"Put Vega: \", spy_put_vega)\n",
    "print(\"Put Theta: \", spy_put_theta)"
   ]
  },
  {
   "cell_type": "markdown",
   "id": "035c5219",
   "metadata": {},
   "source": [
    "**To find the option premium 60 days before maturity, we use the data available today and find the option's implied volatility which would be the market's expectation of future volatility in the underlying SPY's price.** \\\n",
    "To find Implied Volatility ($\\sigma$) from the Black Scholes Options Pricing Equation, we use the Newton-Raphson method for root finding"
   ]
  },
  {
   "cell_type": "code",
   "execution_count": 8,
   "id": "aad05f7d",
   "metadata": {},
   "outputs": [],
   "source": [
    "trials = 1000\n",
    "market_price = 30.65        # SPY 380 call option price on 07/11/2022\n",
    "def newton_raphson(trials):\n",
    "    iv = 0.5\n",
    "    for i in range(trials):\n",
    "        call_price = CallOption(S,q,K,r,sigma=iv,T=T0).price()\n",
    "        diff = market_price - call_price\n",
    "        vega = CallOption(S,q,K,r,sigma=iv,T=T0).vega()\n",
    "        if abs(diff) < 0.0001:\n",
    "            return iv\n",
    "        iv += diff/vega\n",
    "    return iv"
   ]
  },
  {
   "cell_type": "code",
   "execution_count": 9,
   "id": "8789a11e",
   "metadata": {},
   "outputs": [
    {
     "name": "stdout",
     "output_type": "stream",
     "text": [
      "Implied Volatility of SPY US Equity:  0.2503405746901576\n"
     ]
    }
   ],
   "source": [
    "spy_iv = newton_raphson(trials=1000)\n",
    "print(\"Implied Volatility of SPY US Equity: \", spy_iv)"
   ]
  },
  {
   "cell_type": "markdown",
   "id": "7c02b098",
   "metadata": {},
   "source": [
    "**On the day of valuation:** \\\n",
    "T0 = 60 days \\\n",
    "sigma = Implied Volatility(SPY US Equity) \\\n",
    "S = price of SPY as per scenario"
   ]
  },
  {
   "cell_type": "code",
   "execution_count": 10,
   "id": "9b8f2ddb",
   "metadata": {},
   "outputs": [],
   "source": [
    "T0 = 60/365\n",
    "scenarios = [-0.1,-0.05,0,0.05,0.1]"
   ]
  },
  {
   "cell_type": "code",
   "execution_count": 11,
   "id": "144a4860",
   "metadata": {},
   "outputs": [],
   "source": [
    "call_price = []\n",
    "put_price = []\n",
    "\n",
    "call_delta = []\n",
    "call_vega = []\n",
    "call_theta = []\n",
    "\n",
    "put_delta = []\n",
    "put_vega = []\n",
    "put_theta = []"
   ]
  },
  {
   "cell_type": "code",
   "execution_count": 12,
   "id": "c2e9cbc2",
   "metadata": {},
   "outputs": [
    {
     "name": "stdout",
     "output_type": "stream",
     "text": [
      "The option premiums for scenario of SPY Price = 345.81 are: \n",
      "Call Option: 3.596724795739185\n",
      "Put Option: 37.082167280567376 \n",
      "\n",
      "The option premiums for scenario of SPY Price = 365.02 are: \n",
      "Call Option: 8.941828231061294\n",
      "Put Option: 23.260799078750978 \n",
      "\n",
      "The option premiums for scenario of SPY Price = 384.23 are: \n",
      "Call Option: 17.962937143419083\n",
      "Put Option: 13.115436353970239 \n",
      "\n",
      "The option premiums for scenario of SPY Price = 403.44 are: \n",
      "Call Option: 30.626572603927002\n",
      "Put Option: 6.612600177339701 \n",
      "\n",
      "The option premiums for scenario of SPY Price = 422.65 are: \n",
      "Call Option: 46.162425945839175\n",
      "Put Option: 2.9819818821133808 \n",
      "\n"
     ]
    }
   ],
   "source": [
    "for s in scenarios:\n",
    "    S_ = np.round(S*(1+s),2)\n",
    "    cp = CallOption(S_,q,K,r,sigma=spy_iv,T=T0).price()\n",
    "    pp = PutOption(S_,q,K,r,sigma=spy_iv,T=T0).price()\n",
    "    \n",
    "    print(f\"The option premiums for scenario of SPY Price = {S_} are: \")\n",
    "    print(f\"Call Option: {cp}\")\n",
    "    print(f\"Put Option: {pp} \\n\")\n",
    "    \n",
    "    call_price.append(cp)\n",
    "    call_delta.append(CallOption(S_,q,K,r,sigma=spy_iv,T=T0).delta())\n",
    "    call_vega.append(CallOption(S_,q,K,r,sigma=spy_iv,T=T0).vega())\n",
    "    call_theta.append(CallOption(S_,q,K,r,sigma=spy_iv,T=T0).theta())\n",
    "    \n",
    "    put_price.append(pp)\n",
    "    put_delta.append(PutOption(S_,q,K,r,sigma=spy_iv,T=T0).delta())\n",
    "    put_vega.append(PutOption(S_,q,K,r,sigma=spy_iv,T=T0).vega())\n",
    "    put_theta.append(PutOption(S_,q,K,r,sigma=spy_iv,T=T0).theta())"
   ]
  },
  {
   "cell_type": "code",
   "execution_count": 13,
   "id": "b7c8eeb9",
   "metadata": {},
   "outputs": [
    {
     "data": {
      "text/html": [
       "<div>\n",
       "<style scoped>\n",
       "    .dataframe tbody tr th:only-of-type {\n",
       "        vertical-align: middle;\n",
       "    }\n",
       "\n",
       "    .dataframe tbody tr th {\n",
       "        vertical-align: top;\n",
       "    }\n",
       "\n",
       "    .dataframe thead th {\n",
       "        text-align: right;\n",
       "    }\n",
       "</style>\n",
       "<table border=\"1\" class=\"dataframe\">\n",
       "  <thead>\n",
       "    <tr style=\"text-align: right;\">\n",
       "      <th></th>\n",
       "      <th>Price</th>\n",
       "      <th>Delta</th>\n",
       "      <th>Vega</th>\n",
       "      <th>Theta</th>\n",
       "    </tr>\n",
       "  </thead>\n",
       "  <tbody>\n",
       "    <tr>\n",
       "      <th>-10%</th>\n",
       "      <td>3.596725</td>\n",
       "      <td>0.193948</td>\n",
       "      <td>27.192664</td>\n",
       "      <td>-0.118657</td>\n",
       "    </tr>\n",
       "    <tr>\n",
       "      <th>-5%</th>\n",
       "      <td>8.941828</td>\n",
       "      <td>0.370164</td>\n",
       "      <td>54.782244</td>\n",
       "      <td>-0.173161</td>\n",
       "    </tr>\n",
       "    <tr>\n",
       "      <th>0%</th>\n",
       "      <td>17.962937</td>\n",
       "      <td>0.568611</td>\n",
       "      <td>88.579948</td>\n",
       "      <td>-0.191510</td>\n",
       "    </tr>\n",
       "    <tr>\n",
       "      <th>5%</th>\n",
       "      <td>30.626573</td>\n",
       "      <td>0.742654</td>\n",
       "      <td>121.477161</td>\n",
       "      <td>-0.167636</td>\n",
       "    </tr>\n",
       "    <tr>\n",
       "      <th>10%</th>\n",
       "      <td>46.162426</td>\n",
       "      <td>0.865627</td>\n",
       "      <td>148.334008</td>\n",
       "      <td>-0.120928</td>\n",
       "    </tr>\n",
       "  </tbody>\n",
       "</table>\n",
       "</div>"
      ],
      "text/plain": [
       "          Price     Delta        Vega     Theta\n",
       "-10%   3.596725  0.193948   27.192664 -0.118657\n",
       "-5%    8.941828  0.370164   54.782244 -0.173161\n",
       "0%    17.962937  0.568611   88.579948 -0.191510\n",
       "5%    30.626573  0.742654  121.477161 -0.167636\n",
       "10%   46.162426  0.865627  148.334008 -0.120928"
      ]
     },
     "execution_count": 13,
     "metadata": {},
     "output_type": "execute_result"
    }
   ],
   "source": [
    "call_df = pd.DataFrame(data = np.transpose(np.array([call_price,call_delta,call_vega,call_theta])), \n",
    "                       columns = [\"Price\",\"Delta\",\"Vega\",\"Theta\"], \n",
    "                       index = [\"-10%\",\"-5%\",\"0%\",\"5%\",\"10%\"])\n",
    "call_df"
   ]
  },
  {
   "cell_type": "code",
   "execution_count": 14,
   "id": "ceebdda9",
   "metadata": {},
   "outputs": [
    {
     "data": {
      "text/html": [
       "<div>\n",
       "<style scoped>\n",
       "    .dataframe tbody tr th:only-of-type {\n",
       "        vertical-align: middle;\n",
       "    }\n",
       "\n",
       "    .dataframe tbody tr th {\n",
       "        vertical-align: top;\n",
       "    }\n",
       "\n",
       "    .dataframe thead th {\n",
       "        text-align: right;\n",
       "    }\n",
       "</style>\n",
       "<table border=\"1\" class=\"dataframe\">\n",
       "  <thead>\n",
       "    <tr style=\"text-align: right;\">\n",
       "      <th></th>\n",
       "      <th>Price</th>\n",
       "      <th>Delta</th>\n",
       "      <th>Vega</th>\n",
       "      <th>Theta</th>\n",
       "    </tr>\n",
       "  </thead>\n",
       "  <tbody>\n",
       "    <tr>\n",
       "      <th>-10%</th>\n",
       "      <td>37.082167</td>\n",
       "      <td>-0.193948</td>\n",
       "      <td>27.192664</td>\n",
       "      <td>-0.101698</td>\n",
       "    </tr>\n",
       "    <tr>\n",
       "      <th>-5%</th>\n",
       "      <td>23.260799</td>\n",
       "      <td>-0.370164</td>\n",
       "      <td>54.782244</td>\n",
       "      <td>-0.157252</td>\n",
       "    </tr>\n",
       "    <tr>\n",
       "      <th>0%</th>\n",
       "      <td>13.115436</td>\n",
       "      <td>-0.568611</td>\n",
       "      <td>88.579948</td>\n",
       "      <td>-0.176650</td>\n",
       "    </tr>\n",
       "    <tr>\n",
       "      <th>5%</th>\n",
       "      <td>6.612600</td>\n",
       "      <td>-0.742654</td>\n",
       "      <td>121.477161</td>\n",
       "      <td>-0.153826</td>\n",
       "    </tr>\n",
       "    <tr>\n",
       "      <th>10%</th>\n",
       "      <td>2.981982</td>\n",
       "      <td>-0.865627</td>\n",
       "      <td>148.334008</td>\n",
       "      <td>-0.108168</td>\n",
       "    </tr>\n",
       "  </tbody>\n",
       "</table>\n",
       "</div>"
      ],
      "text/plain": [
       "          Price     Delta        Vega     Theta\n",
       "-10%  37.082167 -0.193948   27.192664 -0.101698\n",
       "-5%   23.260799 -0.370164   54.782244 -0.157252\n",
       "0%    13.115436 -0.568611   88.579948 -0.176650\n",
       "5%     6.612600 -0.742654  121.477161 -0.153826\n",
       "10%    2.981982 -0.865627  148.334008 -0.108168"
      ]
     },
     "execution_count": 14,
     "metadata": {},
     "output_type": "execute_result"
    }
   ],
   "source": [
    "put_df = pd.DataFrame(data = np.transpose(np.array([put_price,put_delta,put_vega,put_theta])), \n",
    "                      columns = [\"Price\",\"Delta\",\"Vega\",\"Theta\"], \n",
    "                      index = [\"-10%\",\"-5%\",\"0%\",\"5%\",\"10%\"])\n",
    "put_df"
   ]
  }
 ],
 "metadata": {
  "kernelspec": {
   "display_name": "Python 3",
   "language": "python",
   "name": "python3"
  },
  "language_info": {
   "codemirror_mode": {
    "name": "ipython",
    "version": 3
   },
   "file_extension": ".py",
   "mimetype": "text/x-python",
   "name": "python",
   "nbconvert_exporter": "python",
   "pygments_lexer": "ipython3",
   "version": "3.8.8"
  }
 },
 "nbformat": 4,
 "nbformat_minor": 5
}
